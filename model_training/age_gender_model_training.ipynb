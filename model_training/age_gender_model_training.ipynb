{
 "cells": [
  {
   "cell_type": "code",
   "execution_count": 3,
   "id": "b08816c3-a36e-4ff3-8b74-f4b40ab1f921",
   "metadata": {},
   "outputs": [],
   "source": [
    "import tkinter as tk\n",
    "from tkinter import Label, Button\n",
    "from PIL import Image, ImageTk\n",
    "import os\n",
    "import random\n",
    "import numpy as np\n",
    "from tensorflow.keras.models import load_model\n"
   ]
  },
  {
   "cell_type": "code",
   "execution_count": 6,
   "id": "13a758fa-499a-4eba-896b-76bfffb95a81",
   "metadata": {},
   "outputs": [
    {
     "name": "stderr",
     "output_type": "stream",
     "text": [
      "WARNING:absl:Compiled the loaded model, but the compiled metrics have yet to be built. `model.compile_metrics` will be empty until you train or evaluate the model.\n"
     ]
    }
   ],
   "source": [
    "model = load_model(\"C:/Users/karth/Desktop/jupyter projects/LongHairGenderDetection/model_training/hair_length_classifier_model.h5\")\n",
    "\n",
    "TEST_IMAGE_PATH = \"C:/Users/karth/Desktop/jupyter projects/LongHairGenderDetection/test_images\""
   ]
  },
  {
   "cell_type": "code",
   "execution_count": 8,
   "id": "85250cad-75e9-4471-925f-a1e51366517f",
   "metadata": {},
   "outputs": [],
   "source": [
    "def predict_random_image():\n",
    "    all_images = [f for f in os.listdir(TEST_IMAGE_PATH) if f.endswith('.jpg')]\n",
    "    if not all_images:\n",
    "        result_label.config(text=\"No images found!\")\n",
    "        return\n",
    "\n",
    "    selected_image = random.choice(all_images)\n",
    "    img_path = os.path.join(TEST_IMAGE_PATH, selected_image)\n",
    "\n",
    "    img = Image.open(img_path).convert(\"RGB\")\n",
    "    img_resized = img.resize((64, 64))  # Resize to model input\n",
    "    img_array = np.expand_dims(np.array(img_resized) / 255.0, axis=0)  # (1, 64, 64, 3)\n",
    "\n",
    "    prediction = model.predict(img_array)[0][0]\n",
    "\n",
    "    img_display = ImageTk.PhotoImage(img.resize((200, 200)))\n",
    "    image_label.config(image=img_display)\n",
    "    image_label.image = img_display\n",
    "\n",
    "    label = \"Long Hair\" if prediction > 0.5 else \"Short Hair\"\n",
    "    result_label.config(text=f\"Prediction: {label}\")\n"
   ]
  },
  {
   "cell_type": "code",
   "execution_count": 9,
   "id": "6ff378fc-7b5b-47c1-859e-ce0f23aea9e1",
   "metadata": {},
   "outputs": [
    {
     "name": "stdout",
     "output_type": "stream",
     "text": [
      "\u001b[1m1/1\u001b[0m \u001b[32m━━━━━━━━━━━━━━━━━━━━\u001b[0m\u001b[37m\u001b[0m \u001b[1m0s\u001b[0m 499ms/step\n",
      "\u001b[1m1/1\u001b[0m \u001b[32m━━━━━━━━━━━━━━━━━━━━\u001b[0m\u001b[37m\u001b[0m \u001b[1m0s\u001b[0m 87ms/step\n"
     ]
    }
   ],
   "source": [
    "window = tk.Tk()\n",
    "window.title(\"Hair Length Classifier\")\n",
    "window.geometry(\"300x350\")\n",
    "\n",
    "image_label = Label(window)\n",
    "image_label.pack()\n",
    "\n",
    "result_label = Label(window, text=\"Click to Predict\", font=(\"Arial\", 14))\n",
    "result_label.pack(pady=10)\n",
    "\n",
    "predict_button = Button(window, text=\"Predict Random Image\", command=predict_random_image)\n",
    "predict_button.pack()\n",
    "\n",
    "window.mainloop()\n"
   ]
  },
  {
   "cell_type": "code",
   "execution_count": null,
   "id": "5dfc634c-ec1e-4edd-a52d-266bdc275b93",
   "metadata": {},
   "outputs": [],
   "source": []
  }
 ],
 "metadata": {
  "kernelspec": {
   "display_name": "Python 3 (ipykernel)",
   "language": "python",
   "name": "python3"
  },
  "language_info": {
   "codemirror_mode": {
    "name": "ipython",
    "version": 3
   },
   "file_extension": ".py",
   "mimetype": "text/x-python",
   "name": "python",
   "nbconvert_exporter": "python",
   "pygments_lexer": "ipython3",
   "version": "3.10.0"
  }
 },
 "nbformat": 4,
 "nbformat_minor": 5
}
